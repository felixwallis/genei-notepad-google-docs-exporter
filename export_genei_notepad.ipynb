{
 "cells": [
  {
   "cell_type": "markdown",
   "metadata": {},
   "source": [
    "## Setup\n"
   ]
  },
  {
   "cell_type": "code",
   "execution_count": 2,
   "metadata": {},
   "outputs": [],
   "source": [
    "import os\n",
    "import json\n",
    "import requests\n",
    "\n",
    "API_URL = 'https://api.app.genei.io/graphql'\n",
    "API_KEY = 'sk_6c34c355499a44c382c4aa0ace62b215'\n",
    "HEADERS = {\n",
    "    'Content-Type': 'application/json',\n",
    "    'x-api-key': API_KEY\n",
    "}\n",
    "\n",
    "data_dir_path = 'data/'\n",
    "dist_dir_path = 'dist/'"
   ]
  },
  {
   "cell_type": "markdown",
   "metadata": {},
   "source": [
    "## Retrieve Genei note data\n"
   ]
  },
  {
   "cell_type": "markdown",
   "metadata": {},
   "source": [
    "### Search Genei notes\n"
   ]
  },
  {
   "cell_type": "code",
   "execution_count": 3,
   "metadata": {},
   "outputs": [
    {
     "data": {
      "text/plain": [
       "'note_cl8vi4vr3008701kw3s6ue0y7'"
      ]
     },
     "execution_count": 3,
     "metadata": {},
     "output_type": "execute_result"
    }
   ],
   "source": [
    "note_name = \"1.0 - Quantitative Data Analysis - 'Introduction' - Week 1 Lecture Notes\"\n",
    "\n",
    "# Search for notes in Genei by name\n",
    "query = \"\"\"\n",
    "    query {{\n",
    "        searchByName(input: {{\n",
    "            name: \"{}\"\n",
    "        }}) {{\n",
    "            results {{\n",
    "                item {{\n",
    "                    __typename\n",
    "                    ... on Note {{\n",
    "                        id\n",
    "                        name\n",
    "                    }}\n",
    "                }}\n",
    "                score\n",
    "            }}\n",
    "        }}\n",
    "    }}\n",
    "\"\"\".format(note_name)\n",
    "try:\n",
    "    response = requests.post(API_URL, json={'query': query}, headers=HEADERS)\n",
    "    # Raise an exception if the response status code is not 200\n",
    "    response.raise_for_status()\n",
    "    search_results = response.json()['data']['searchByName']['results']\n",
    "except requests.exceptions.RequestException as e:\n",
    "    print(f\"An error occurred: {e}\")\n",
    "    search_results = []\n",
    "\n",
    "top_search_result_id = None\n",
    "if len(search_results) > 0:\n",
    "    top_search_result_id = search_results[0]['item']['id']\n",
    "\n",
    "top_search_result_id"
   ]
  },
  {
   "cell_type": "markdown",
   "metadata": {},
   "source": [
    "### Return note data from top search result\n"
   ]
  },
  {
   "cell_type": "code",
   "execution_count": 4,
   "metadata": {},
   "outputs": [],
   "source": [
    "if top_search_result_id:\n",
    "    query = \"\"\"\n",
    "    query {{\n",
    "        note(id: \"{}\") {{\n",
    "            data\n",
    "        }}\n",
    "    }}\n",
    "    \"\"\".format(top_search_result_id)\n",
    "    response = requests.post(API_URL, json={'query': query}, headers=HEADERS)\n",
    "    note = response.json()\n",
    "    note_data = note['data']['note']['data']['root']\n",
    "\n",
    "    if not os.path.exists(data_dir_path):\n",
    "        os.makedirs(data_dir_path)\n",
    "\n",
    "    file_name = os.path.join(data_dir_path, note_name + '.json')\n",
    "    with open(file_name, 'w') as f:\n",
    "        json.dump(note_data, f)"
   ]
  },
  {
   "cell_type": "markdown",
   "metadata": {},
   "source": [
    "## Convert Genei note data to markdown\n"
   ]
  },
  {
   "cell_type": "code",
   "execution_count": 5,
   "metadata": {},
   "outputs": [],
   "source": [
    "def json_to_md(node, parent_list_type=None):\n",
    "    if node['type'] in ['text', 'code-highlight'] and node['text'] != '[link]':\n",
    "        return node['text']\n",
    "\n",
    "    if node['type'] == 'heading':\n",
    "        level = int(node['tag'][1])\n",
    "        return f\"{'#' * level} \" + ' '.join([json_to_md(child) for child in node['children']]) + \"\\n\"\n",
    "\n",
    "    if node['type'] == 'list':\n",
    "        # Default to bullet if not specified\n",
    "        list_type = node.get('listType', 'bullet')\n",
    "        return '\\n'.join([json_to_md(child, list_type) for child in node['children']])\n",
    "\n",
    "    if node['type'] == 'listitem':\n",
    "        if parent_list_type == 'bullet':\n",
    "            prefix = \"- \"\n",
    "        else:  # Assume numbered list\n",
    "            prefix = f\"{node['value']}. \"\n",
    "        return prefix + ' '.join([json_to_md(child, parent_list_type) for child in node['children']])\n",
    "\n",
    "    if node['type'] == 'code':\n",
    "        return f\"```{node.get('language', '')}\\n\" + ''.join([json_to_md(child) for child in node['children']]) + \"\\n```\"\n",
    "\n",
    "    if node['type'] == 'equation':\n",
    "        sign = '$' if node['inline'] else '$$'\n",
    "        return sign + node['equation'] + sign\n",
    "\n",
    "    if node['type'] == 'quote':\n",
    "        return '> ' + ' '.join([json_to_md(child) for child in node['children']])\n",
    "\n",
    "    if node['type'] == 'resource-link':\n",
    "        return ' '.join([json_to_md(child) for child in node['children']])\n",
    "\n",
    "    if node['type'] in ['paragraph', 'root']:\n",
    "        return '\\n\\n'.join([json_to_md(child) for child in node['children']])\n",
    "\n",
    "    if node['type'] == 'linebreak':\n",
    "        return '\\n'\n",
    "\n",
    "    return ''\n",
    "\n",
    "\n",
    "markdown_output = json_to_md(note_data)\n",
    "\n",
    "if not os.path.exists(dist_dir_path):\n",
    "    os.makedirs(dist_dir_path)\n",
    "\n",
    "file_name = os.path.join(dist_dir_path, note_name + '.md')\n",
    "with open(file_name, 'w') as f:\n",
    "    f.write(markdown_output)"
   ]
  }
 ],
 "metadata": {
  "kernelspec": {
   "display_name": ".venv",
   "language": "python",
   "name": "python3"
  },
  "language_info": {
   "codemirror_mode": {
    "name": "ipython",
    "version": 3
   },
   "file_extension": ".py",
   "mimetype": "text/x-python",
   "name": "python",
   "nbconvert_exporter": "python",
   "pygments_lexer": "ipython3",
   "version": "3.11.5"
  },
  "orig_nbformat": 4
 },
 "nbformat": 4,
 "nbformat_minor": 2
}
