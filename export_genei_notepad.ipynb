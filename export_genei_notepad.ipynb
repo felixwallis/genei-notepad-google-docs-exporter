{
 "cells": [
  {
   "cell_type": "markdown",
   "metadata": {},
   "source": [
    "## Setup\n"
   ]
  },
  {
   "cell_type": "code",
   "execution_count": 3,
   "metadata": {},
   "outputs": [],
   "source": [
    "import os\n",
    "import json\n",
    "import requests\n",
    "\n",
    "API_URL = 'https://api.app.genei.io/graphql'\n",
    "API_KEY = 'sk_6c34c355499a44c382c4aa0ace62b215'\n",
    "HEADERS = {\n",
    "    'Content-Type': 'application/json',\n",
    "    'x-api-key': API_KEY\n",
    "}\n",
    "\n",
    "data_dir_path = 'data/'\n",
    "dist_dir_path = 'dist/'"
   ]
  },
  {
   "cell_type": "markdown",
   "metadata": {},
   "source": [
    "## Retrieve Genei note data\n"
   ]
  },
  {
   "cell_type": "markdown",
   "metadata": {},
   "source": [
    "### Search Genei notes\n"
   ]
  },
  {
   "cell_type": "code",
   "execution_count": 4,
   "metadata": {},
   "outputs": [
    {
     "data": {
      "text/plain": [
       "'note_cl8vi4vr3008701kw3s6ue0y7'"
      ]
     },
     "execution_count": 4,
     "metadata": {},
     "output_type": "execute_result"
    }
   ],
   "source": [
    "note_name = \"1.0 - Quantitative Data Analysis - 'Introduction' - Week 1 Lecture Notes\"\n",
    "\n",
    "# Search for notes in Genei by name\n",
    "query = \"\"\"\n",
    "    query {{\n",
    "        searchByName(input: {{\n",
    "            name: \"{}\"\n",
    "        }}) {{\n",
    "            results {{\n",
    "                item {{\n",
    "                    __typename\n",
    "                    ... on Note {{\n",
    "                        id\n",
    "                        name\n",
    "                    }}\n",
    "                }}\n",
    "                score\n",
    "            }}\n",
    "        }}\n",
    "    }}\n",
    "\"\"\".format(note_name)\n",
    "try:\n",
    "    response = requests.post(API_URL, json={'query': query}, headers=HEADERS)\n",
    "    # Raise an exception if the response status code is not 200\n",
    "    response.raise_for_status()\n",
    "    search_results = response.json()['data']['searchByName']['results']\n",
    "except requests.exceptions.RequestException as e:\n",
    "    print(f\"An error occurred: {e}\")\n",
    "    search_results = []\n",
    "\n",
    "top_search_result_id = None\n",
    "if len(search_results) > 0:\n",
    "    top_search_result_id = search_results[0]['item']['id']\n",
    "\n",
    "top_search_result_id"
   ]
  },
  {
   "cell_type": "markdown",
   "metadata": {},
   "source": [
    "### Return note data from top search result\n"
   ]
  },
  {
   "cell_type": "code",
   "execution_count": 5,
   "metadata": {},
   "outputs": [],
   "source": [
    "if top_search_result_id:\n",
    "    query = \"\"\"\n",
    "    query {{\n",
    "        note(id: \"{}\") {{\n",
    "            data\n",
    "        }}\n",
    "    }}\n",
    "    \"\"\".format(top_search_result_id)\n",
    "    response = requests.post(API_URL, json={'query': query}, headers=HEADERS)\n",
    "    note = response.json()\n",
    "    note_data = note['data']['note']['data']['root']\n",
    "\n",
    "    if not os.path.exists(data_dir_path):\n",
    "        os.makedirs(data_dir_path)\n",
    "\n",
    "    file_name = os.path.join(data_dir_path, note_name + '.json')\n",
    "    with open(file_name, 'w') as f:\n",
    "        json.dump(note_data, f)"
   ]
  },
  {
   "cell_type": "markdown",
   "metadata": {},
   "source": [
    "## Convert Genei note data to markdown\n"
   ]
  },
  {
   "cell_type": "code",
   "execution_count": 37,
   "metadata": {},
   "outputs": [],
   "source": [
    "def process_text_nodes(children):\n",
    "    \"\"\"\n",
    "    Process and combine adjacent text nodes, applying formatting where necessary.\n",
    "    \"\"\"\n",
    "    combined_text = []\n",
    "    current_text = \"\"\n",
    "\n",
    "    for child in children:\n",
    "        if child['type'] == 'text':\n",
    "            # If the text should be bold\n",
    "            if child.get('format') == 1:\n",
    "                # If there's existing non-bold text, append it first\n",
    "                if current_text:\n",
    "                    combined_text.append(current_text)\n",
    "                    current_text = \"\"\n",
    "                combined_text.append(f\"**{child['text']}**\")\n",
    "            else:\n",
    "                # Combine adjacent non-bold text nodes\n",
    "                current_text += child['text']\n",
    "        else:\n",
    "            # If there's existing non-bold text, append it first\n",
    "            if current_text:\n",
    "                combined_text.append(current_text)\n",
    "                current_text = \"\"\n",
    "            combined_text.append(json_to_md(child))\n",
    "\n",
    "    # Append any remaining text\n",
    "    if current_text:\n",
    "        combined_text.append(current_text)\n",
    "\n",
    "    return ''.join(combined_text)\n",
    "\n",
    "\n",
    "def json_to_md(node, parent_list_type=None):\n",
    "    \"\"\"\n",
    "    Convert a Genei note JSON node to Markdown.\n",
    "    \"\"\"\n",
    "    node_type = node['type']\n",
    "\n",
    "    if node_type in ['text', 'code-highlight']:\n",
    "        node_text = node.get('text')\n",
    "        if node_text and node_text != '[link]':\n",
    "            return f\"**{node_text}**\" if node.get('format') == '1' else node_text\n",
    "\n",
    "    if node_type == 'heading':\n",
    "        level = int(node['tag'][1])\n",
    "        return f\"{'#' * level} \" + ' '.join([json_to_md(child) for child in node['children']]) + \"\\n\"\n",
    "\n",
    "    if node_type == 'list':\n",
    "        list_type = node.get('listType', 'bullet')\n",
    "        return '\\n'.join([json_to_md(child, list_type) for child in node['children']])\n",
    "\n",
    "    if node_type == 'listitem':\n",
    "        if parent_list_type == 'bullet':\n",
    "            prefix = \"- \"\n",
    "        else:\n",
    "            prefix = f\"{node['value']}. \"\n",
    "        indent = node.get('indent', 0)\n",
    "        prefix = '\\t' * indent + prefix\n",
    "\n",
    "        combined_text = process_text_nodes(node['children'])\n",
    "        if node['children'] and node['children'][0].get('type') == 'list':\n",
    "            return combined_text\n",
    "        else:\n",
    "            return prefix + combined_text\n",
    "\n",
    "    if node_type == 'code':\n",
    "        return f\"```{node.get('language', '')}\\n\" + ''.join([json_to_md(child) for child in node['children']]) + \"\\n```\"\n",
    "\n",
    "    if node_type == 'equation':\n",
    "        sign = '$' if node.get('inline', False) else '$$'\n",
    "        return sign + node.get('equation', '') + sign\n",
    "\n",
    "    if node_type == 'quote':\n",
    "        return '> ' + ' '.join([json_to_md(child) for child in node['children']])\n",
    "\n",
    "    if node_type == 'resource-link':\n",
    "        return ' '.join([json_to_md(child) for child in node['children']])\n",
    "\n",
    "    if node_type in ['paragraph', 'root']:\n",
    "        return '\\n'.join([json_to_md(child) for child in node['children']])\n",
    "\n",
    "    if node_type == 'linebreak':\n",
    "        return '\\n'\n",
    "\n",
    "    return ''\n",
    "\n",
    "\n",
    "markdown_output = json_to_md(note_data)\n",
    "\n",
    "if not os.path.exists(dist_dir_path):\n",
    "    os.makedirs(dist_dir_path)\n",
    "\n",
    "file_name = os.path.join(dist_dir_path, note_name + '.md')\n",
    "with open(file_name, 'w') as f:\n",
    "    f.write(markdown_output)"
   ]
  }
 ],
 "metadata": {
  "kernelspec": {
   "display_name": ".venv",
   "language": "python",
   "name": "python3"
  },
  "language_info": {
   "codemirror_mode": {
    "name": "ipython",
    "version": 3
   },
   "file_extension": ".py",
   "mimetype": "text/x-python",
   "name": "python",
   "nbconvert_exporter": "python",
   "pygments_lexer": "ipython3",
   "version": "3.11.5"
  },
  "orig_nbformat": 4
 },
 "nbformat": 4,
 "nbformat_minor": 2
}
