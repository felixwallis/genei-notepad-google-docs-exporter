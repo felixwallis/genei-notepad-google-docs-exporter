{
 "cells": [
  {
   "cell_type": "markdown",
   "metadata": {},
   "source": [
    "## Setup\n"
   ]
  },
  {
   "cell_type": "code",
   "execution_count": 10,
   "metadata": {},
   "outputs": [],
   "source": [
    "import os\n",
    "import json\n",
    "import requests\n",
    "\n",
    "API_URL = 'https://dev.api.app.genei.io/graphql'\n",
    "API_KEY = 'sk_12f9accc6ff84c23a9cd1a67818fab0b'\n",
    "HEADERS = {\n",
    "    'Content-Type': 'application/json',\n",
    "    'x-api-key': API_KEY\n",
    "}\n",
    "\n",
    "data_dir_path = 'data/'\n",
    "dist_dir_path = 'dist/'"
   ]
  },
  {
   "cell_type": "markdown",
   "metadata": {},
   "source": [
    "## Retrieve Genei note data\n"
   ]
  },
  {
   "cell_type": "markdown",
   "metadata": {},
   "source": [
    "### Search Genei notes\n"
   ]
  },
  {
   "cell_type": "code",
   "execution_count": 6,
   "metadata": {},
   "outputs": [
    {
     "data": {
      "text/plain": [
       "'note_cl8ln255w000001md47a6h6cg'"
      ]
     },
     "execution_count": 6,
     "metadata": {},
     "output_type": "execute_result"
    }
   ],
   "source": [
    "note_name = \"1.1 - The Routledge Handbook of Ethics and Public Policy, Chapter 4, Weale, Albert, 'Public Policy and Normative Methods' - Chapter Summary\"\n",
    "\n",
    "# Search for notes in Genei by name\n",
    "query = \"\"\"\n",
    "    query {{\n",
    "        searchByName(input: {{\n",
    "            name: \"{}\"\n",
    "        }}) {{\n",
    "            results {{\n",
    "                item {{\n",
    "                    __typename\n",
    "                    ... on Note {{\n",
    "                        id\n",
    "                        name\n",
    "                    }}\n",
    "                }}\n",
    "                score\n",
    "            }}\n",
    "        }}\n",
    "    }}\n",
    "\"\"\".format(note_name)\n",
    "try:\n",
    "    response = requests.post(API_URL, json={'query': query}, headers=HEADERS)\n",
    "    # Raise an exception if the response status code is not 200\n",
    "    response.raise_for_status()\n",
    "    search_results = response.json()['data']['searchByName']['results']\n",
    "except requests.exceptions.RequestException as e:\n",
    "    print(f\"An error occurred: {e}\")\n",
    "    search_results = []\n",
    "\n",
    "top_search_result_id = None\n",
    "if len(search_results) > 0:\n",
    "    top_search_result_id = search_results[0]['item']['id']\n",
    "\n",
    "top_search_result_id"
   ]
  },
  {
   "cell_type": "markdown",
   "metadata": {},
   "source": [
    "### Return note data from top search result\n"
   ]
  },
  {
   "cell_type": "code",
   "execution_count": 12,
   "metadata": {},
   "outputs": [],
   "source": [
    "if top_search_result_id:\n",
    "    query = \"\"\"\n",
    "    query {{\n",
    "        note(id: \"{}\") {{\n",
    "            data\n",
    "        }}\n",
    "    }}\n",
    "    \"\"\".format(top_search_result_id)\n",
    "    response = requests.post(API_URL, json={'query': query}, headers=HEADERS)\n",
    "    note = response.json()\n",
    "    note_data = note['data']['note']['data']['root']\n",
    "\n",
    "    if not os.path.exists(data_dir_path):\n",
    "        os.makedirs(data_dir_path)\n",
    "\n",
    "    file_name = os.path.join(data_dir_path, note_name + '.json')\n",
    "    with open(file_name, 'w') as f:\n",
    "        json.dump(note_data, f)"
   ]
  },
  {
   "cell_type": "markdown",
   "metadata": {},
   "source": [
    "## Convert Genei note data to markdown\n"
   ]
  },
  {
   "cell_type": "code",
   "execution_count": 45,
   "metadata": {},
   "outputs": [],
   "source": [
    "def json_to_md(node):\n",
    "    if node['type'] == 'text' or node['type'] == 'code-highlight':\n",
    "        return node['text']\n",
    "\n",
    "    if node['type'] == 'heading':\n",
    "        level = int(node['tag'][1])\n",
    "        return f\"{'#' * level} \" + ' '.join(\n",
    "            [json_to_md(child) for child in node['children']]) + \"\\n\"\n",
    "\n",
    "    if node['type'] == 'list':\n",
    "        return '\\n'.join([json_to_md(child) for child in node['children']])\n",
    "\n",
    "    if node['type'] == 'listitem':\n",
    "        prefix = \"- \"\n",
    "        if node.get('checked'):\n",
    "            prefix = \"- [x] \"\n",
    "        return prefix + ' '.join([json_to_md(child) for child in node['children']])\n",
    "\n",
    "    if node['type'] == 'code':\n",
    "        return f\"```{node.get('language', '')}\\n\" + ''.join(\n",
    "            [json_to_md(child) for child in node['children']]) + \"\\n```\"\n",
    "\n",
    "    if node['type'] == 'paragraph' or node['type'] == 'root':\n",
    "        return '\\n'.join([json_to_md(child) for child in node['children']])\n",
    "\n",
    "    return ''\n",
    "\n",
    "\n",
    "markdown_output = json_to_md(note_data)\n",
    "with open('{}.md'.format(note_name), 'w') as f:\n",
    "    f.write(markdown_output)"
   ]
  }
 ],
 "metadata": {
  "kernelspec": {
   "display_name": ".venv",
   "language": "python",
   "name": "python3"
  },
  "language_info": {
   "codemirror_mode": {
    "name": "ipython",
    "version": 3
   },
   "file_extension": ".py",
   "mimetype": "text/x-python",
   "name": "python",
   "nbconvert_exporter": "python",
   "pygments_lexer": "ipython3",
   "version": "3.11.5"
  },
  "orig_nbformat": 4
 },
 "nbformat": 4,
 "nbformat_minor": 2
}
